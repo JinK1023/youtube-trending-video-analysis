{
 "cells": [
  {
   "cell_type": "code",
   "execution_count": null,
   "metadata": {},
   "outputs": [],
   "source": [
    "# https://machinelearningmastery.com/use-pre-trained-vgg-model-classify-objects-photographs/\n",
    "# https://keraskorea.github.io/posts/2018-10-24-little_data_powerful_model/"
   ]
  },
  {
   "cell_type": "code",
   "execution_count": 1,
   "metadata": {},
   "outputs": [],
   "source": [
    "# Import our libraries we are going to use for our data analysis.\n",
    "#import tensorflow as tf\n",
    "import pandas as pd\n",
    "import seaborn as sns\n",
    "import numpy as np\n",
    "import matplotlib.pyplot as plt\n"
   ]
  },
  {
   "cell_type": "code",
   "execution_count": 2,
   "metadata": {},
   "outputs": [],
   "source": [
    "\n",
    "df = pd.read_csv('./US(subscriber).csv')\n",
    "df_origin=df.copy()\n",
    "\n",
    "us_videos_categories = pd.read_json('./US_category_id.json')\n",
    "# Map Category IDs using the supporting file: US_category_id.json\n",
    "categories = {int(category['id']): category['snippet']['title'] for category in us_videos_categories['items']}"
   ]
  },
  {
   "cell_type": "code",
   "execution_count": 3,
   "metadata": {},
   "outputs": [
    {
     "data": {
      "text/html": [
       "<div>\n",
       "<style scoped>\n",
       "    .dataframe tbody tr th:only-of-type {\n",
       "        vertical-align: middle;\n",
       "    }\n",
       "\n",
       "    .dataframe tbody tr th {\n",
       "        vertical-align: top;\n",
       "    }\n",
       "\n",
       "    .dataframe thead th {\n",
       "        text-align: right;\n",
       "    }\n",
       "</style>\n",
       "<table border=\"1\" class=\"dataframe\">\n",
       "  <thead>\n",
       "    <tr style=\"text-align: right;\">\n",
       "      <th></th>\n",
       "      <th>thumbnail_link</th>\n",
       "      <th>title</th>\n",
       "      <th>topic</th>\n",
       "      <th>views</th>\n",
       "    </tr>\n",
       "  </thead>\n",
       "  <tbody>\n",
       "    <tr>\n",
       "      <th>0</th>\n",
       "      <td>https://i.ytimg.com/vi/2kyS6SvSYSE/default.jpg</td>\n",
       "      <td>WE WANT TO TALK ABOUT OUR MARRIAGE</td>\n",
       "      <td>People &amp; Blogs</td>\n",
       "      <td>748374</td>\n",
       "    </tr>\n",
       "    <tr>\n",
       "      <th>1</th>\n",
       "      <td>https://i.ytimg.com/vi/1ZAPwfrtAFY/default.jpg</td>\n",
       "      <td>The Trump Presidency: Last Week Tonight with J...</td>\n",
       "      <td>Entertainment</td>\n",
       "      <td>2418783</td>\n",
       "    </tr>\n",
       "    <tr>\n",
       "      <th>2</th>\n",
       "      <td>https://i.ytimg.com/vi/5qpjK5DgCt4/default.jpg</td>\n",
       "      <td>Racist Superman | Rudy Mancuso, King Bach &amp; Le...</td>\n",
       "      <td>Comedy</td>\n",
       "      <td>3191434</td>\n",
       "    </tr>\n",
       "    <tr>\n",
       "      <th>3</th>\n",
       "      <td>https://i.ytimg.com/vi/puqaWrEC7tY/default.jpg</td>\n",
       "      <td>Nickelback Lyrics: Real or Fake?</td>\n",
       "      <td>Entertainment</td>\n",
       "      <td>343168</td>\n",
       "    </tr>\n",
       "    <tr>\n",
       "      <th>4</th>\n",
       "      <td>https://i.ytimg.com/vi/d380meD0W0M/default.jpg</td>\n",
       "      <td>I Dare You: GOING BALD!?</td>\n",
       "      <td>Entertainment</td>\n",
       "      <td>2095731</td>\n",
       "    </tr>\n",
       "  </tbody>\n",
       "</table>\n",
       "</div>"
      ],
      "text/plain": [
       "                                   thumbnail_link  \\\n",
       "0  https://i.ytimg.com/vi/2kyS6SvSYSE/default.jpg   \n",
       "1  https://i.ytimg.com/vi/1ZAPwfrtAFY/default.jpg   \n",
       "2  https://i.ytimg.com/vi/5qpjK5DgCt4/default.jpg   \n",
       "3  https://i.ytimg.com/vi/puqaWrEC7tY/default.jpg   \n",
       "4  https://i.ytimg.com/vi/d380meD0W0M/default.jpg   \n",
       "\n",
       "                                               title           topic    views  \n",
       "0                 WE WANT TO TALK ABOUT OUR MARRIAGE  People & Blogs   748374  \n",
       "1  The Trump Presidency: Last Week Tonight with J...   Entertainment  2418783  \n",
       "2  Racist Superman | Rudy Mancuso, King Bach & Le...          Comedy  3191434  \n",
       "3                   Nickelback Lyrics: Real or Fake?   Entertainment   343168  \n",
       "4                           I Dare You: GOING BALD!?   Entertainment  2095731  "
      ]
     },
     "execution_count": 3,
     "metadata": {},
     "output_type": "execute_result"
    }
   ],
   "source": [
    "tn=df[['thumbnail_link','title','topic','views']]\n",
    "tn.head()"
   ]
  },
  {
   "cell_type": "code",
   "execution_count": 4,
   "metadata": {},
   "outputs": [
    {
     "name": "stderr",
     "output_type": "stream",
     "text": [
      "Using TensorFlow backend.\n"
     ]
    }
   ],
   "source": [
    "from keras.preprocessing.image import load_img\n",
    "from keras.preprocessing.image import img_to_array\n",
    "from keras.applications.vgg16 import preprocess_input\n",
    "from keras.applications.vgg16 import decode_predictions\n",
    "from keras.applications.vgg16 import VGG16\n"
   ]
  },
  {
   "cell_type": "code",
   "execution_count": 5,
   "metadata": {},
   "outputs": [],
   "source": [
    "# load the model\n",
    "vmodel = VGG16()"
   ]
  },
  {
   "cell_type": "code",
   "execution_count": 6,
   "metadata": {},
   "outputs": [],
   "source": [
    "img=tn.thumbnail_link"
   ]
  },
  {
   "cell_type": "code",
   "execution_count": 7,
   "metadata": {},
   "outputs": [],
   "source": [
    "# load an image from file\n",
    "image = load_img('default.jpg', target_size=(224,224))"
   ]
  },
  {
   "cell_type": "code",
   "execution_count": 8,
   "metadata": {},
   "outputs": [
    {
     "data": {
      "image/png": "[encoded data removed]",
      "text/plain": [
       "<PIL.Image.Image image mode=RGB size=224x224 at 0x1D26FA34278>"
      ]
     },
     "execution_count": 8,
     "metadata": {},
     "output_type": "execute_result"
    }
   ],
   "source": [
    "image"
   ]
  },
  {
   "cell_type": "code",
   "execution_count": 9,
   "metadata": {},
   "outputs": [
    {
     "data": {
      "text/plain": [
       "array([[[0., 0., 2.],\n",
       "        [0., 0., 2.],\n",
       "        [0., 0., 2.],\n",
       "        ...,\n",
       "        [0., 0., 2.],\n",
       "        [0., 0., 2.],\n",
       "        [0., 0., 2.]],\n",
       "\n",
       "       [[0., 0., 2.],\n",
       "        [0., 0., 2.],\n",
       "        [0., 0., 2.],\n",
       "        ...,\n",
       "        [0., 0., 2.],\n",
       "        [0., 0., 2.],\n",
       "        [0., 0., 2.]],\n",
       "\n",
       "       [[0., 0., 2.],\n",
       "        [0., 0., 2.],\n",
       "        [0., 0., 2.],\n",
       "        ...,\n",
       "        [0., 0., 2.],\n",
       "        [0., 0., 2.],\n",
       "        [0., 0., 2.]],\n",
       "\n",
       "       ...,\n",
       "\n",
       "       [[0., 0., 0.],\n",
       "        [0., 0., 0.],\n",
       "        [0., 0., 0.],\n",
       "        ...,\n",
       "        [0., 1., 0.],\n",
       "        [0., 1., 0.],\n",
       "        [0., 1., 0.]],\n",
       "\n",
       "       [[0., 0., 0.],\n",
       "        [0., 0., 0.],\n",
       "        [0., 0., 0.],\n",
       "        ...,\n",
       "        [0., 1., 0.],\n",
       "        [0., 1., 0.],\n",
       "        [0., 1., 0.]],\n",
       "\n",
       "       [[0., 0., 0.],\n",
       "        [0., 0., 0.],\n",
       "        [0., 0., 0.],\n",
       "        ...,\n",
       "        [0., 1., 0.],\n",
       "        [0., 1., 0.],\n",
       "        [0., 1., 0.]]], dtype=float32)"
      ]
     },
     "execution_count": 9,
     "metadata": {},
     "output_type": "execute_result"
    }
   ],
   "source": [
    "# convert the image pixels to a numpy array\n",
    "image = img_to_array(image)\n",
    "image"
   ]
  },
  {
   "cell_type": "code",
   "execution_count": 10,
   "metadata": {},
   "outputs": [
    {
     "data": {
      "text/plain": [
       "array([[[[0., 0., 2.],\n",
       "         [0., 0., 2.],\n",
       "         [0., 0., 2.],\n",
       "         ...,\n",
       "         [0., 0., 2.],\n",
       "         [0., 0., 2.],\n",
       "         [0., 0., 2.]],\n",
       "\n",
       "        [[0., 0., 2.],\n",
       "         [0., 0., 2.],\n",
       "         [0., 0., 2.],\n",
       "         ...,\n",
       "         [0., 0., 2.],\n",
       "         [0., 0., 2.],\n",
       "         [0., 0., 2.]],\n",
       "\n",
       "        [[0., 0., 2.],\n",
       "         [0., 0., 2.],\n",
       "         [0., 0., 2.],\n",
       "         ...,\n",
       "         [0., 0., 2.],\n",
       "         [0., 0., 2.],\n",
       "         [0., 0., 2.]],\n",
       "\n",
       "        ...,\n",
       "\n",
       "        [[0., 0., 0.],\n",
       "         [0., 0., 0.],\n",
       "         [0., 0., 0.],\n",
       "         ...,\n",
       "         [0., 1., 0.],\n",
       "         [0., 1., 0.],\n",
       "         [0., 1., 0.]],\n",
       "\n",
       "        [[0., 0., 0.],\n",
       "         [0., 0., 0.],\n",
       "         [0., 0., 0.],\n",
       "         ...,\n",
       "         [0., 1., 0.],\n",
       "         [0., 1., 0.],\n",
       "         [0., 1., 0.]],\n",
       "\n",
       "        [[0., 0., 0.],\n",
       "         [0., 0., 0.],\n",
       "         [0., 0., 0.],\n",
       "         ...,\n",
       "         [0., 1., 0.],\n",
       "         [0., 1., 0.],\n",
       "         [0., 1., 0.]]]], dtype=float32)"
      ]
     },
     "execution_count": 10,
     "metadata": {},
     "output_type": "execute_result"
    }
   ],
   "source": [
    "# reshape data for the model\n",
    "image = image.reshape((1, image.shape[0], image.shape[1], image.shape[2]))\n",
    "image"
   ]
  },
  {
   "cell_type": "code",
   "execution_count": 11,
   "metadata": {},
   "outputs": [
    {
     "data": {
      "text/plain": [
       "array([[[[-101.939, -116.779, -123.68 ],\n",
       "         [-101.939, -116.779, -123.68 ],\n",
       "         [-101.939, -116.779, -123.68 ],\n",
       "         ...,\n",
       "         [-101.939, -116.779, -123.68 ],\n",
       "         [-101.939, -116.779, -123.68 ],\n",
       "         [-101.939, -116.779, -123.68 ]],\n",
       "\n",
       "        [[-101.939, -116.779, -123.68 ],\n",
       "         [-101.939, -116.779, -123.68 ],\n",
       "         [-101.939, -116.779, -123.68 ],\n",
       "         ...,\n",
       "         [-101.939, -116.779, -123.68 ],\n",
       "         [-101.939, -116.779, -123.68 ],\n",
       "         [-101.939, -116.779, -123.68 ]],\n",
       "\n",
       "        [[-101.939, -116.779, -123.68 ],\n",
       "         [-101.939, -116.779, -123.68 ],\n",
       "         [-101.939, -116.779, -123.68 ],\n",
       "         ...,\n",
       "         [-101.939, -116.779, -123.68 ],\n",
       "         [-101.939, -116.779, -123.68 ],\n",
       "         [-101.939, -116.779, -123.68 ]],\n",
       "\n",
       "        ...,\n",
       "\n",
       "        [[-103.939, -116.779, -123.68 ],\n",
       "         [-103.939, -116.779, -123.68 ],\n",
       "         [-103.939, -116.779, -123.68 ],\n",
       "         ...,\n",
       "         [-103.939, -115.779, -123.68 ],\n",
       "         [-103.939, -115.779, -123.68 ],\n",
       "         [-103.939, -115.779, -123.68 ]],\n",
       "\n",
       "        [[-103.939, -116.779, -123.68 ],\n",
       "         [-103.939, -116.779, -123.68 ],\n",
       "         [-103.939, -116.779, -123.68 ],\n",
       "         ...,\n",
       "         [-103.939, -115.779, -123.68 ],\n",
       "         [-103.939, -115.779, -123.68 ],\n",
       "         [-103.939, -115.779, -123.68 ]],\n",
       "\n",
       "        [[-103.939, -116.779, -123.68 ],\n",
       "         [-103.939, -116.779, -123.68 ],\n",
       "         [-103.939, -116.779, -123.68 ],\n",
       "         ...,\n",
       "         [-103.939, -115.779, -123.68 ],\n",
       "         [-103.939, -115.779, -123.68 ],\n",
       "         [-103.939, -115.779, -123.68 ]]]], dtype=float32)"
      ]
     },
     "execution_count": 11,
     "metadata": {},
     "output_type": "execute_result"
    }
   ],
   "source": [
    "# prepare the image for the VGG model\n",
    "image = preprocess_input(image)\n",
    "image"
   ]
  },
  {
   "cell_type": "code",
   "execution_count": 12,
   "metadata": {},
   "outputs": [
    {
     "data": {
      "text/plain": [
       "array([[3.65358596e-06, 3.22425825e-04, 2.54360839e-06, 9.22156914e-07,\n",
       "        5.79854986e-06, 1.16961810e-05, 3.82318922e-06, 3.81319223e-05,\n",
       "        3.28414217e-06, 2.71426779e-06, 6.99299619e-07, 2.62898288e-06,\n",
       "        1.19807157e-06, 9.49747630e-07, 1.85656991e-05, 2.40392842e-06,\n",
       "        1.95643702e-06, 1.02545555e-05, 5.34560013e-06, 1.16737090e-06,\n",
       "        3.48046740e-07, 1.96486235e-06, 5.05979506e-06, 7.07850131e-06,\n",
       "        1.91878803e-06, 2.59191233e-06, 3.54742997e-06, 7.95847427e-06,\n",
       "        6.76531909e-06, 5.66811786e-06, 5.09788208e-07, 5.04738000e-06,\n",
       "        2.92578852e-06, 9.06015703e-06, 3.89199558e-05, 8.02952286e-07,\n",
       "        3.96982750e-06, 1.31097045e-06, 6.10791267e-06, 2.93296830e-06,\n",
       "        8.75418436e-07, 8.01385511e-07, 9.96883500e-06, 5.21991205e-06,\n",
       "        4.98514964e-07, 1.89888669e-05, 1.37195536e-06, 1.19037777e-05,\n",
       "        2.47803155e-06, 4.36716437e-06, 5.12425913e-06, 6.60559817e-05,\n",
       "        1.84798387e-06, 2.02167735e-06, 1.55850489e-06, 8.52957783e-06,\n",
       "        3.25239080e-06, 4.62252018e-07, 4.52795376e-07, 3.14564495e-05,\n",
       "        2.15270793e-05, 3.12452357e-06, 6.10764437e-06, 4.11913752e-05,\n",
       "        8.71624252e-06, 8.39398399e-06, 2.08653864e-06, 7.16804971e-06,\n",
       "        2.10692042e-06, 1.02766467e-06, 2.24801184e-07, 5.58857391e-05,\n",
       "        1.11367092e-06, 2.98398959e-06, 1.49719085e-06, 5.27716566e-07,\n",
       "        2.67837295e-05, 1.09541850e-06, 1.54248301e-05, 4.89763897e-06,\n",
       "        4.11520841e-06, 3.81501081e-07, 5.06082472e-07, 1.73061142e-06,\n",
       "        1.07858214e-05, 2.88427515e-07, 1.72620048e-06, 5.80885353e-05,\n",
       "        7.78707303e-03, 6.76277796e-06, 8.61413719e-05, 5.01051318e-06,\n",
       "        9.73599435e-06, 4.89410668e-05, 2.24994856e-05, 1.73599437e-05,\n",
       "        3.33216049e-05, 4.49811250e-06, 2.74941021e-06, 4.03582499e-06,\n",
       "        1.88192043e-05, 6.35430843e-05, 3.43771012e-06, 8.33413992e-07,\n",
       "        2.00189879e-06, 1.07096707e-06, 4.05593892e-06, 8.85243207e-05,\n",
       "        7.64795768e-05, 4.98082991e-05, 1.38760595e-06, 2.83457775e-05,\n",
       "        1.59113188e-04, 6.12414487e-06, 2.07623270e-06, 2.05009655e-05,\n",
       "        4.04416642e-06, 4.61235913e-06, 1.35704468e-05, 2.05482843e-06,\n",
       "        5.12760789e-06, 2.54792278e-04, 4.25478560e-04, 8.39388031e-06,\n",
       "        5.54887338e-05, 4.12207419e-06, 1.94748591e-05, 9.05804882e-06,\n",
       "        6.80566654e-06, 5.45310240e-06, 1.63204284e-04, 1.88283320e-06,\n",
       "        1.52207417e-06, 1.25005002e-07, 1.91552658e-06, 1.44759008e-06,\n",
       "        3.97050917e-06, 1.28776264e-06, 1.88799618e-07, 1.45092173e-07,\n",
       "        1.90166105e-07, 3.97118129e-07, 1.56699613e-07, 8.17337934e-07,\n",
       "        4.46174590e-06, 2.81394623e-05, 5.93081609e-07, 1.81541564e-05,\n",
       "        8.68107818e-05, 1.11513600e-05, 5.15563079e-06, 3.57448444e-05,\n",
       "        3.25046713e-05, 1.31311454e-05, 1.80912630e-05, 1.48900126e-05,\n",
       "        1.77675065e-05, 8.25930183e-05, 4.47257526e-06, 6.14564669e-06,\n",
       "        1.32985570e-05, 1.45775393e-05, 6.78160795e-05, 4.05001992e-05,\n",
       "        1.01127353e-05, 4.44008292e-05, 6.81489564e-06, 5.11802227e-06,\n",
       "        6.51233277e-05, 1.47346136e-05, 4.15680597e-06, 1.75204113e-05,\n",
       "        4.59398734e-06, 9.00117175e-06, 2.73332398e-06, 1.65316451e-05,\n",
       "        5.20861431e-06, 7.84483927e-06, 4.66008396e-06, 5.90151967e-06,\n",
       "        4.79512937e-06, 2.71597291e-05, 3.73814191e-06, 8.46824332e-05,\n",
       "        6.27788904e-05, 4.83095482e-06, 1.45705080e-05, 2.29324432e-05,\n",
       "        9.23625430e-06, 7.97073335e-06, 6.19381217e-06, 6.60959704e-05,\n",
       "        2.86927525e-06, 1.38862479e-05, 2.39645942e-06, 2.35465413e-05,\n",
       "        1.78759831e-06, 8.43575526e-06, 3.32139734e-06, 9.34348827e-06,\n",
       "        6.53567076e-06, 9.38933954e-06, 1.52049934e-05, 4.92566440e-04,\n",
       "        1.67841681e-05, 4.05405171e-06, 1.74049528e-05, 1.12729786e-05,\n",
       "        5.37007554e-06, 3.22563460e-06, 1.06791856e-06, 4.02608603e-05,\n",
       "        3.98158500e-06, 3.44443943e-05, 2.31712293e-05, 2.56258172e-05,\n",
       "        7.48458433e-06, 6.23757614e-06, 1.41139390e-05, 6.86853582e-06,\n",
       "        3.47221576e-05, 3.81593854e-05, 4.66264210e-05, 1.28146248e-05,\n",
       "        2.01088915e-05, 9.74910472e-06, 1.19955830e-05, 4.01101852e-06,\n",
       "        1.37631083e-04, 3.04862842e-05, 1.10925785e-05, 9.24302185e-06,\n",
       "        4.06350819e-06, 5.69087206e-05, 3.33177304e-05, 4.71888370e-06,\n",
       "        7.80840764e-06, 2.04489861e-05, 5.32293961e-05, 1.04886585e-05,\n",
       "        7.92823357e-06, 2.33717237e-05, 1.92752286e-05, 1.36318777e-05,\n",
       "        1.74851346e-04, 5.04519994e-06, 4.34587582e-06, 3.16390469e-05,\n",
       "        3.67625171e-06, 9.69246230e-06, 8.08095774e-06, 1.09990888e-05,\n",
       "        1.20196310e-05, 1.76897993e-05, 3.83909173e-05, 1.32208006e-05,\n",
       "        1.43414254e-05, 3.03939960e-05, 5.17536282e-05, 2.71866556e-05,\n",
       "        8.65886541e-05, 1.84389355e-05, 1.19347978e-05, 5.40089104e-06,\n",
       "        9.16863428e-06, 2.24321804e-04, 9.14980701e-05, 1.59523333e-04,\n",
       "        5.60487160e-06, 1.91267509e-06, 5.60787112e-06, 7.83264659e-06,\n",
       "        2.13795352e-06, 5.52597521e-06, 7.99884856e-06, 2.37535096e-06,\n",
       "        7.57721682e-06, 1.83798056e-05, 2.23808092e-06, 4.50818288e-06,\n",
       "        5.78115669e-06, 3.96592623e-06, 3.01136811e-06, 2.79288415e-05,\n",
       "        7.95226060e-06, 1.24810967e-05, 9.68863105e-07, 2.03676018e-06,\n",
       "        1.70548935e-06, 1.90032233e-06, 9.83261202e-07, 1.54337467e-05,\n",
       "        1.08500544e-05, 8.20328387e-06, 7.72925068e-06, 4.02904880e-06,\n",
       "        2.44975836e-05, 5.83914834e-06, 4.74991157e-06, 1.04427072e-05,\n",
       "        1.09874350e-06, 5.58414922e-06, 2.22507765e-06, 3.61557227e-06,\n",
       "        4.99482667e-06, 2.02603542e-06, 2.90054322e-06, 1.01384212e-05,\n",
       "        5.83732515e-07, 5.10072960e-06, 4.72193187e-06, 1.50740891e-06,\n",
       "        4.21256317e-07, 7.30946454e-07, 2.87693092e-06, 5.59960597e-07,\n",
       "        2.51745433e-07, 8.29486623e-07, 6.50427353e-07, 3.01801242e-06,\n",
       "        7.17386570e-07, 2.78070547e-06, 2.00048839e-06, 4.62896332e-06,\n",
       "        7.05063258e-07, 1.35105038e-05, 2.78850484e-06, 7.94926964e-05,\n",
       "        1.24505677e-05, 3.32979689e-05, 1.70211774e-06, 9.58061901e-06,\n",
       "        4.57930109e-05, 2.47674270e-05, 5.59963564e-06, 5.28245528e-06,\n",
       "        1.53492795e-06, 1.93700016e-05, 3.47835739e-05, 5.40678448e-05,\n",
       "        5.51433050e-06, 4.06298313e-05, 3.75801233e-06, 2.19928484e-06,\n",
       "        2.06797449e-06, 7.24636338e-05, 1.37598654e-05, 2.54233892e-05,\n",
       "        5.25774294e-06, 7.41460599e-06, 4.91106221e-06, 1.58274145e-06,\n",
       "        4.08523238e-06, 2.34400159e-06, 4.36735390e-05, 4.94490669e-05,\n",
       "        3.22750543e-06, 9.75471721e-07, 1.71285628e-05, 7.00795454e-06,\n",
       "        8.69801227e-07, 1.76258418e-05, 9.41369944e-06, 1.78662267e-05,\n",
       "        1.25994745e-06, 4.20387842e-05, 6.23431742e-06, 3.65910419e-05,\n",
       "        6.21137997e-06, 3.06106085e-06, 7.28151963e-06, 5.19343121e-06,\n",
       "        1.24249227e-05, 9.27742803e-06, 2.20282491e-05, 1.11301904e-06,\n",
       "        2.67527375e-05, 9.60422130e-06, 5.19659516e-05, 2.08187466e-05,\n",
       "        1.56768529e-05, 8.03482726e-06, 1.33690037e-05, 3.13187707e-06,\n",
       "        1.82098768e-06, 1.51779095e-04, 2.09341597e-05, 3.45360149e-06,\n",
       "        1.35935034e-05, 1.30176186e-05, 1.57428203e-05, 7.34442710e-06,\n",
       "        3.37508063e-05, 1.92334737e-05, 2.62177837e-05, 1.32581363e-05,\n",
       "        1.09746634e-05, 1.53887663e-06, 6.67095999e-04, 3.55002936e-04,\n",
       "        2.12610606e-02, 7.37484253e-04, 9.71925401e-05, 3.97807025e-06,\n",
       "        9.09907976e-06, 6.75341971e-06, 2.62363348e-03, 4.14053531e-04,\n",
       "        1.24647759e-05, 2.10766704e-03, 1.35527216e-06, 1.77181489e-03,\n",
       "        4.59582552e-05, 2.90624575e-05, 1.87168177e-03, 4.33187161e-05,\n",
       "        3.33251208e-02, 5.32414007e-04, 1.63005563e-04, 3.06810165e-04,\n",
       "        4.48553561e-04, 5.40626410e-04, 3.35224275e-03, 1.44195554e-04,\n",
       "        2.49950419e-04, 4.42012461e-05, 9.67504457e-06, 1.77410009e-04,\n",
       "        1.45771715e-04, 2.83727695e-05, 3.83427687e-04, 1.77994752e-05,\n",
       "        7.41005410e-04, 4.04903712e-03, 7.72362924e-04, 7.07049679e-04,\n",
       "        3.29691611e-05, 5.73964826e-05, 5.30944853e-05, 8.33920203e-03,\n",
       "        7.28310351e-06, 2.33580631e-05, 4.42944001e-04, 1.00214958e-04,\n",
       "        1.23801481e-04, 1.03431672e-03, 3.40507191e-04, 1.94692679e-04,\n",
       "        3.36548328e-05, 2.95589998e-05, 7.61131814e-05, 3.72455630e-04,\n",
       "        1.14004558e-03, 3.39428661e-05, 4.31121080e-05, 1.05312974e-05,\n",
       "        1.72197842e-03, 1.80601664e-02, 3.66891065e-04, 8.51492863e-04,\n",
       "        5.97439430e-05, 4.77468893e-05, 4.43622499e-04, 5.99452411e-04,\n",
       "        5.15074353e-05, 1.52150533e-04, 2.64449427e-05, 1.23044403e-04,\n",
       "        1.39149954e-04, 9.92668938e-05, 2.71198084e-03, 9.24055348e-05,\n",
       "        9.13008116e-05, 5.15150023e-05, 1.80034700e-03, 1.33768161e-04,\n",
       "        4.27891355e-05, 4.62261269e-05, 1.72073633e-04, 3.29415634e-05,\n",
       "        9.90200322e-03, 2.05716897e-05, 5.46064002e-05, 2.04002718e-05,\n",
       "        4.49809068e-06, 2.21592200e-05, 8.39427346e-04, 1.39820459e-03,\n",
       "        6.07225229e-04, 6.65292237e-06, 5.82267494e-05, 7.95202679e-04,\n",
       "        1.48235282e-04, 1.87553851e-05, 5.48976604e-05, 3.93463142e-06,\n",
       "        4.38435527e-05, 1.27464140e-04, 1.21651439e-03, 7.61948526e-04,\n",
       "        2.09088412e-05, 1.43468368e-03, 2.29187441e-04, 2.10123271e-05,\n",
       "        4.10917164e-05, 1.08571649e-05, 6.92502799e-05, 3.48197827e-05,\n",
       "        4.85530501e-04, 7.07017971e-05, 1.24434919e-05, 1.53182282e-05,\n",
       "        1.43834059e-05, 1.06370142e-04, 5.62492824e-05, 2.29512487e-04,\n",
       "        7.14793860e-05, 1.04346487e-04, 9.07066642e-05, 3.08328817e-05,\n",
       "        6.73674003e-05, 2.23786647e-05, 7.21148026e-05, 2.29850807e-03,\n",
       "        2.83429126e-05, 7.96137465e-06, 1.39885279e-03, 2.21538241e-03,\n",
       "        5.15224201e-05, 1.87041194e-04, 7.04371429e-04, 7.21630291e-04,\n",
       "        7.38700619e-05, 8.45465729e-06, 9.31383693e-06, 1.40040697e-06,\n",
       "        1.38992846e-05, 1.03356876e-06, 9.53570416e-05, 2.93635348e-05,\n",
       "        2.18405930e-05, 6.94922870e-04, 1.68374670e-03, 4.10920102e-03,\n",
       "        2.90258254e-06, 1.59582378e-05, 4.47824539e-04, 2.60567731e-06,\n",
       "        1.41622906e-04, 2.25391850e-04, 2.37640006e-06, 1.80988045e-05,\n",
       "        8.48476682e-03, 5.74668084e-05, 1.59287247e-05, 5.91913376e-05,\n",
       "        1.01483223e-04, 6.04341221e-05, 1.38402975e-03, 6.92764734e-05,\n",
       "        4.81772513e-05, 6.68057328e-05, 3.68982600e-03, 1.13979668e-05,\n",
       "        2.10435501e-05, 5.38153618e-05, 8.90705269e-05, 1.60240743e-05,\n",
       "        3.45658371e-03, 1.36084986e-04, 3.79588164e-04, 6.15270692e-05,\n",
       "        9.46653654e-06, 3.73142648e-05, 5.26024542e-06, 4.44598518e-05,\n",
       "        1.96407636e-05, 2.77641532e-03, 2.89997105e-02, 1.08126865e-03,\n",
       "        8.20648493e-05, 1.06143107e-05, 7.00997625e-05, 3.54047981e-04,\n",
       "        1.45218091e-03, 2.57592462e-03, 2.33093874e-06, 1.62634984e-04,\n",
       "        1.20124687e-05, 4.12481168e-04, 3.98923643e-04, 1.02575100e-03,\n",
       "        1.71828708e-06, 4.69589868e-04, 1.15624745e-03, 4.47254979e-06,\n",
       "        5.35603867e-05, 3.35522009e-06, 1.07081048e-02, 2.32746675e-06,\n",
       "        1.13692309e-03, 1.77529512e-03, 2.71189678e-03, 9.61119440e-06,\n",
       "        9.52521514e-05, 4.57312795e-04, 3.08646262e-03, 3.02918954e-03,\n",
       "        2.53340951e-03, 6.38920574e-06, 1.62568322e-04, 7.59440649e-04,\n",
       "        3.25753615e-04, 7.24220154e-05, 3.19449827e-02, 1.83813405e-04,\n",
       "        8.38366803e-04, 5.61239570e-03, 1.70014737e-05, 7.89005644e-05,\n",
       "        9.46893939e-04, 2.60577544e-05, 2.37085296e-05, 3.56441851e-05,\n",
       "        9.51806869e-05, 5.63451977e-05, 4.05223167e-04, 1.13418319e-04,\n",
       "        1.28497231e-05, 1.85986428e-04, 7.15299539e-05, 4.96366447e-05,\n",
       "        3.33099801e-04, 2.84601938e-05, 1.72540476e-05, 5.20148387e-05,\n",
       "        2.65333598e-04, 1.83977012e-04, 5.02395211e-03, 1.28070521e-03,\n",
       "        9.23465086e-06, 2.22773314e-03, 1.55249424e-02, 6.41434104e-04,\n",
       "        2.66518327e-04, 8.83083703e-05, 1.54205874e-04, 1.45421172e-05,\n",
       "        3.29319846e-05, 1.44123924e-05, 3.21398163e-03, 2.62340418e-05,\n",
       "        8.28503980e-04, 8.21458525e-05, 1.63545032e-04, 3.17673752e-04,\n",
       "        1.92472988e-04, 1.31437246e-05, 9.55800060e-05, 6.37072117e-06,\n",
       "        4.15493705e-05, 1.80023778e-06, 1.15550665e-05, 3.71547576e-05,\n",
       "        6.00037873e-02, 1.38849364e-05, 7.45081297e-06, 4.20481898e-03,\n",
       "        6.88002838e-05, 4.94401138e-05, 9.91993729e-05, 1.91974268e-05,\n",
       "        3.86985193e-05, 4.82700387e-04, 3.51348513e-06, 4.54734472e-05,\n",
       "        3.29437353e-05, 6.93779584e-05, 1.16193527e-03, 2.20436104e-05,\n",
       "        2.16381850e-05, 8.37602478e-04, 5.95497149e-05, 1.77333131e-03,\n",
       "        3.46737169e-03, 3.03832439e-05, 1.24780618e-05, 8.74215475e-05,\n",
       "        5.36259380e-04, 3.34610417e-03, 6.33480740e-05, 1.12353118e-04,\n",
       "        6.72565366e-05, 8.69223266e-04, 8.04816373e-05, 1.18729833e-04,\n",
       "        8.69611278e-04, 2.69370694e-02, 8.86356211e-05, 7.79329042e-04,\n",
       "        3.42854437e-05, 7.66512458e-05, 3.74954822e-03, 7.09343294e-05,\n",
       "        2.15257140e-04, 1.13955975e-05, 1.23451255e-05, 1.05999305e-03,\n",
       "        3.45298722e-05, 1.99805276e-04, 1.27345076e-04, 1.05346277e-04,\n",
       "        2.96914495e-05, 8.70767326e-05, 4.85272431e-05, 2.24529085e-05,\n",
       "        7.73303385e-04, 1.66574428e-05, 7.02832476e-05, 8.54031023e-05,\n",
       "        4.05090628e-04, 6.65272310e-05, 2.92942103e-04, 4.93648222e-05,\n",
       "        1.94563199e-06, 8.20753339e-05, 9.05182333e-06, 2.54436804e-04,\n",
       "        5.98144907e-05, 1.04596011e-05, 1.47677429e-05, 2.44048960e-03,\n",
       "        4.32754823e-05, 1.74741406e-04, 6.70803493e-05, 7.75399152e-04,\n",
       "        8.15534731e-05, 4.59345538e-05, 1.34584216e-05, 1.37917974e-04,\n",
       "        3.39114020e-04, 3.40877916e-04, 1.53944406e-04, 2.20534421e-04,\n",
       "        1.29884902e-05, 2.57800636e-03, 7.50162781e-06, 1.12927775e-03,\n",
       "        1.67163802e-04, 1.49635097e-03, 8.53156744e-05, 3.85790518e-05,\n",
       "        2.86491995e-04, 1.35206545e-04, 4.17427545e-05, 3.83146016e-06,\n",
       "        6.97751821e-05, 1.67367434e-05, 5.73404614e-05, 1.22569370e-04,\n",
       "        6.77374701e-05, 1.15395836e-04, 2.11946768e-04, 1.98275520e-05,\n",
       "        6.31204821e-05, 3.76693461e-05, 2.77780691e-05, 2.51501537e-04,\n",
       "        1.65744095e-05, 7.33144581e-04, 6.78417855e-05, 8.88864743e-04,\n",
       "        1.85128258e-04, 1.46763286e-05, 1.99620525e-04, 2.16704421e-02,\n",
       "        8.62988352e-04, 6.80843877e-05, 8.70202784e-05, 5.98203696e-05,\n",
       "        1.31764489e-06, 2.15578446e-04, 1.68316718e-02, 9.25642962e-05,\n",
       "        1.06815234e-04, 1.14863702e-04, 5.06506949e-05, 3.65828419e-05,\n",
       "        6.74291659e-05, 5.40731824e-04, 7.78081085e-05, 1.66696318e-05,\n",
       "        1.61490199e-04, 9.85888997e-04, 3.77484644e-03, 2.82550551e-04,\n",
       "        1.03590908e-04, 4.09100292e-04, 3.90501955e-05, 9.10950825e-04,\n",
       "        1.26988161e-03, 3.59052821e-04, 4.57480701e-06, 3.49645802e-06,\n",
       "        1.21037410e-04, 1.34907474e-04, 1.32545392e-04, 1.14325092e-04,\n",
       "        2.34673280e-04, 9.81343146e-06, 6.92570466e-05, 1.35975997e-05,\n",
       "        6.00278763e-05, 1.19322824e-04, 4.56025627e-05, 5.24875247e-07,\n",
       "        2.00957784e-05, 7.98830515e-05, 9.92795336e-04, 2.13540774e-02,\n",
       "        3.26828240e-06, 4.77239410e-05, 1.09135092e-03, 2.05030409e-03,\n",
       "        1.77960994e-03, 2.69341240e-06, 9.10159288e-05, 3.66229833e-05,\n",
       "        7.85074371e-06, 2.30906899e-05, 4.45598009e-04, 1.30191082e-04,\n",
       "        5.76901330e-05, 1.23531345e-05, 6.18795259e-03, 9.28129521e-06,\n",
       "        1.27241097e-03, 1.03865573e-02, 6.04298293e-05, 1.78845530e-05,\n",
       "        5.01488568e-03, 1.82022384e-04, 1.26136746e-02, 1.26768230e-03,\n",
       "        6.31754883e-05, 1.20312092e-04, 9.30669412e-05, 5.12621455e-06,\n",
       "        3.83410479e-05, 3.49689326e-05, 7.46476755e-04, 1.24424852e-01,\n",
       "        3.42518142e-05, 1.90813589e-05, 1.62973091e-01, 4.27981140e-05,\n",
       "        4.25313783e-06, 4.35652211e-04, 2.40636346e-05, 1.47841100e-04,\n",
       "        4.62114513e-05, 1.25503249e-03, 1.27437217e-02, 8.34239036e-05,\n",
       "        1.51045761e-05, 1.24050386e-03, 6.17477999e-05, 4.40671502e-05,\n",
       "        4.03675111e-03, 5.29279292e-04, 5.36470616e-04, 2.50528410e-06,\n",
       "        9.20458187e-05, 3.58221369e-05, 8.35204219e-07, 3.59056939e-05,\n",
       "        3.85037041e-04, 1.88636317e-04, 1.28691254e-05, 8.07095435e-04,\n",
       "        3.11941304e-03, 9.05399065e-05, 1.36788911e-03, 7.36089132e-05,\n",
       "        1.03066712e-04, 1.63231906e-03, 2.42029695e-04, 5.82521362e-03,\n",
       "        1.92481348e-05, 5.20935690e-04, 1.45815720e-04, 5.86739952e-06,\n",
       "        7.90460734e-04, 3.59006590e-05, 1.07806909e-03, 1.31998047e-06,\n",
       "        1.62839933e-04, 1.24271974e-04, 5.39287284e-04, 4.55741712e-04,\n",
       "        3.78311870e-06, 1.13585281e-06, 3.13476101e-03, 1.95925012e-02,\n",
       "        3.58765508e-04, 1.89708220e-03, 3.60777974e-03, 3.02647622e-05,\n",
       "        3.41672649e-06, 3.32614400e-05, 1.39708491e-05, 9.65730404e-04,\n",
       "        2.73830337e-05, 4.73448517e-06, 9.02299746e-07, 1.14448903e-05,\n",
       "        1.43300518e-02, 9.37558303e-04, 5.12253209e-05, 6.81908641e-05,\n",
       "        2.57779699e-04, 6.66160195e-04, 1.57136310e-04, 3.27472080e-05,\n",
       "        7.93877371e-06, 1.82901988e-06, 3.41041755e-06, 2.16133208e-06,\n",
       "        9.21589435e-06, 4.05960222e-04, 6.90108891e-06, 1.04191313e-05,\n",
       "        3.15289508e-05, 2.03380614e-06, 3.92314942e-05, 2.55976920e-06,\n",
       "        1.35240261e-05, 4.51548476e-06, 9.47675289e-06, 8.71558677e-06,\n",
       "        1.01093701e-05, 3.27841235e-06, 1.07075621e-05, 3.62555293e-05,\n",
       "        3.16560795e-06, 1.08796776e-05, 8.32162823e-06, 1.75548905e-06,\n",
       "        2.07017165e-05, 9.02115244e-06, 1.16407420e-04, 7.07004074e-06,\n",
       "        1.47632284e-06, 3.34536489e-05, 3.76624121e-05, 8.14182931e-06,\n",
       "        1.66178870e-05, 1.00133411e-05, 6.67403001e-05, 1.14738782e-06,\n",
       "        1.57668353e-06, 2.49268760e-05, 9.77326999e-06, 2.11382885e-05,\n",
       "        2.94867391e-06, 4.76510604e-06, 4.68689468e-05, 2.37121344e-06,\n",
       "        1.27540552e-05, 3.86605416e-06, 2.53586877e-05, 1.10813498e-03,\n",
       "        1.77345282e-05, 1.34397793e-04, 2.17524557e-05, 9.97109382e-05,\n",
       "        3.18703337e-06, 8.04510637e-05, 1.47313258e-04, 1.65501478e-05,\n",
       "        9.02803804e-05, 1.48244188e-04, 5.04765995e-02, 1.81630050e-04,\n",
       "        2.07649900e-05, 1.63266468e-05, 2.40036161e-06, 4.71460407e-05,\n",
       "        1.09269320e-06, 1.65149800e-06, 3.50323859e-07, 4.88720116e-06,\n",
       "        1.68972406e-06, 8.87875558e-07, 3.04176137e-06, 9.26848259e-07,\n",
       "        1.38906910e-06, 5.21650577e-07, 5.35384715e-05, 1.03073497e-03]],\n",
       "      dtype=float32)"
      ]
     },
     "execution_count": 12,
     "metadata": {},
     "output_type": "execute_result"
    }
   ],
   "source": [
    "# predict the probability across all output classes\n",
    "yhat = vmodel.predict(image)\n",
    "yhat"
   ]
  },
  {
   "cell_type": "code",
   "execution_count": 13,
   "metadata": {},
   "outputs": [
    {
     "data": {
      "text/plain": [
       "[[('n04418357', 'theater_curtain', 0.16297309),\n",
       "  ('n04404412', 'television', 0.12442485),\n",
       "  ('n03782006', 'monitor', 0.060003787),\n",
       "  ('n10148035', 'groom', 0.0504766),\n",
       "  ('n02777292', 'balance_beam', 0.03332512)]]"
      ]
     },
     "execution_count": 13,
     "metadata": {},
     "output_type": "execute_result"
    }
   ],
   "source": [
    "# convert the probabilities to class labels\n",
    "label = decode_predictions(yhat)\n",
    "label"
   ]
  },
  {
   "cell_type": "code",
   "execution_count": 14,
   "metadata": {},
   "outputs": [],
   "source": [
    "# retrieve the most likely result, e.g. highest probability\n",
    "label = label[0][:3]"
   ]
  },
  {
   "cell_type": "code",
   "execution_count": 15,
   "metadata": {},
   "outputs": [
    {
     "name": "stdout",
     "output_type": "stream",
     "text": [
      "theater_curtain (16.30%)\n"
     ]
    }
   ],
   "source": [
    "# print the classification\n",
    "print('%s (%.2f%%)' % (label[0][1], label[0][2]*100))"
   ]
  },
  {
   "cell_type": "code",
   "execution_count": 16,
   "metadata": {},
   "outputs": [
    {
     "data": {
      "text/plain": [
       "[('n04418357', 'theater_curtain', 0.16297309),\n",
       " ('n04404412', 'television', 0.12442485),\n",
       " ('n03782006', 'monitor', 0.060003787)]"
      ]
     },
     "execution_count": 16,
     "metadata": {},
     "output_type": "execute_result"
    }
   ],
   "source": [
    "label"
   ]
  },
  {
   "cell_type": "code",
   "execution_count": 17,
   "metadata": {},
   "outputs": [
    {
     "name": "stdout",
     "output_type": "stream",
     "text": [
      "_________________________________________________________________\n",
      "Layer (type)                 Output Shape              Param #   \n",
      "=================================================================\n",
      "input_1 (InputLayer)         (None, 224, 224, 3)       0         \n",
      "_________________________________________________________________\n",
      "block1_conv1 (Conv2D)        (None, 224, 224, 64)      1792      \n",
      "_________________________________________________________________\n",
      "block1_conv2 (Conv2D)        (None, 224, 224, 64)      36928     \n",
      "_________________________________________________________________\n",
      "block1_pool (MaxPooling2D)   (None, 112, 112, 64)      0         \n",
      "_________________________________________________________________\n",
      "block2_conv1 (Conv2D)        (None, 112, 112, 128)     73856     \n",
      "_________________________________________________________________\n",
      "block2_conv2 (Conv2D)        (None, 112, 112, 128)     147584    \n",
      "_________________________________________________________________\n",
      "block2_pool (MaxPooling2D)   (None, 56, 56, 128)       0         \n",
      "_________________________________________________________________\n",
      "block3_conv1 (Conv2D)        (None, 56, 56, 256)       295168    \n",
      "_________________________________________________________________\n",
      "block3_conv2 (Conv2D)        (None, 56, 56, 256)       590080    \n",
      "_________________________________________________________________\n",
      "block3_conv3 (Conv2D)        (None, 56, 56, 256)       590080    \n",
      "_________________________________________________________________\n",
      "block3_pool (MaxPooling2D)   (None, 28, 28, 256)       0         \n",
      "_________________________________________________________________\n",
      "block4_conv1 (Conv2D)        (None, 28, 28, 512)       1180160   \n",
      "_________________________________________________________________\n",
      "block4_conv2 (Conv2D)        (None, 28, 28, 512)       2359808   \n",
      "_________________________________________________________________\n",
      "block4_conv3 (Conv2D)        (None, 28, 28, 512)       2359808   \n",
      "_________________________________________________________________\n",
      "block4_pool (MaxPooling2D)   (None, 14, 14, 512)       0         \n",
      "_________________________________________________________________\n",
      "block5_conv1 (Conv2D)        (None, 14, 14, 512)       2359808   \n",
      "_________________________________________________________________\n",
      "block5_conv2 (Conv2D)        (None, 14, 14, 512)       2359808   \n",
      "_________________________________________________________________\n",
      "block5_conv3 (Conv2D)        (None, 14, 14, 512)       2359808   \n",
      "_________________________________________________________________\n",
      "block5_pool (MaxPooling2D)   (None, 7, 7, 512)         0         \n",
      "_________________________________________________________________\n",
      "flatten (Flatten)            (None, 25088)             0         \n",
      "_________________________________________________________________\n",
      "fc1 (Dense)                  (None, 4096)              102764544 \n",
      "_________________________________________________________________\n",
      "fc2 (Dense)                  (None, 4096)              16781312  \n",
      "_________________________________________________________________\n",
      "predictions (Dense)          (None, 1000)              4097000   \n",
      "=================================================================\n",
      "Total params: 138,357,544\n",
      "Trainable params: 138,357,544\n",
      "Non-trainable params: 0\n",
      "_________________________________________________________________\n"
     ]
    }
   ],
   "source": [
    "vmodel.summary()"
   ]
  },
  {
   "cell_type": "markdown",
   "metadata": {},
   "source": [
    "### download data link to disk"
   ]
  },
  {
   "cell_type": "code",
   "execution_count": 18,
   "metadata": {},
   "outputs": [
    {
     "data": {
      "text/html": [
       "<div>\n",
       "<style scoped>\n",
       "    .dataframe tbody tr th:only-of-type {\n",
       "        vertical-align: middle;\n",
       "    }\n",
       "\n",
       "    .dataframe tbody tr th {\n",
       "        vertical-align: top;\n",
       "    }\n",
       "\n",
       "    .dataframe thead th {\n",
       "        text-align: right;\n",
       "    }\n",
       "</style>\n",
       "<table border=\"1\" class=\"dataframe\">\n",
       "  <thead>\n",
       "    <tr style=\"text-align: right;\">\n",
       "      <th></th>\n",
       "      <th>thumbnail_link</th>\n",
       "      <th>title</th>\n",
       "      <th>topic</th>\n",
       "      <th>views</th>\n",
       "    </tr>\n",
       "  </thead>\n",
       "  <tbody>\n",
       "    <tr>\n",
       "      <th>0</th>\n",
       "      <td>https://i.ytimg.com/vi/2kyS6SvSYSE/default.jpg</td>\n",
       "      <td>WE WANT TO TALK ABOUT OUR MARRIAGE</td>\n",
       "      <td>People &amp; Blogs</td>\n",
       "      <td>748374</td>\n",
       "    </tr>\n",
       "    <tr>\n",
       "      <th>1</th>\n",
       "      <td>https://i.ytimg.com/vi/1ZAPwfrtAFY/default.jpg</td>\n",
       "      <td>The Trump Presidency: Last Week Tonight with J...</td>\n",
       "      <td>Entertainment</td>\n",
       "      <td>2418783</td>\n",
       "    </tr>\n",
       "    <tr>\n",
       "      <th>2</th>\n",
       "      <td>https://i.ytimg.com/vi/5qpjK5DgCt4/default.jpg</td>\n",
       "      <td>Racist Superman | Rudy Mancuso, King Bach &amp; Le...</td>\n",
       "      <td>Comedy</td>\n",
       "      <td>3191434</td>\n",
       "    </tr>\n",
       "    <tr>\n",
       "      <th>3</th>\n",
       "      <td>https://i.ytimg.com/vi/puqaWrEC7tY/default.jpg</td>\n",
       "      <td>Nickelback Lyrics: Real or Fake?</td>\n",
       "      <td>Entertainment</td>\n",
       "      <td>343168</td>\n",
       "    </tr>\n",
       "    <tr>\n",
       "      <th>4</th>\n",
       "      <td>https://i.ytimg.com/vi/d380meD0W0M/default.jpg</td>\n",
       "      <td>I Dare You: GOING BALD!?</td>\n",
       "      <td>Entertainment</td>\n",
       "      <td>2095731</td>\n",
       "    </tr>\n",
       "  </tbody>\n",
       "</table>\n",
       "</div>"
      ],
      "text/plain": [
       "                                   thumbnail_link  \\\n",
       "0  https://i.ytimg.com/vi/2kyS6SvSYSE/default.jpg   \n",
       "1  https://i.ytimg.com/vi/1ZAPwfrtAFY/default.jpg   \n",
       "2  https://i.ytimg.com/vi/5qpjK5DgCt4/default.jpg   \n",
       "3  https://i.ytimg.com/vi/puqaWrEC7tY/default.jpg   \n",
       "4  https://i.ytimg.com/vi/d380meD0W0M/default.jpg   \n",
       "\n",
       "                                               title           topic    views  \n",
       "0                 WE WANT TO TALK ABOUT OUR MARRIAGE  People & Blogs   748374  \n",
       "1  The Trump Presidency: Last Week Tonight with J...   Entertainment  2418783  \n",
       "2  Racist Superman | Rudy Mancuso, King Bach & Le...          Comedy  3191434  \n",
       "3                   Nickelback Lyrics: Real or Fake?   Entertainment   343168  \n",
       "4                           I Dare You: GOING BALD!?   Entertainment  2095731  "
      ]
     },
     "execution_count": 18,
     "metadata": {},
     "output_type": "execute_result"
    }
   ],
   "source": [
    "tn.head()"
   ]
  },
  {
   "cell_type": "code",
   "execution_count": 19,
   "metadata": {},
   "outputs": [
    {
     "data": {
      "text/html": [
       "<div>\n",
       "<style scoped>\n",
       "    .dataframe tbody tr th:only-of-type {\n",
       "        vertical-align: middle;\n",
       "    }\n",
       "\n",
       "    .dataframe tbody tr th {\n",
       "        vertical-align: top;\n",
       "    }\n",
       "\n",
       "    .dataframe thead th {\n",
       "        text-align: right;\n",
       "    }\n",
       "</style>\n",
       "<table border=\"1\" class=\"dataframe\">\n",
       "  <thead>\n",
       "    <tr style=\"text-align: right;\">\n",
       "      <th></th>\n",
       "      <th>thumbnail_link</th>\n",
       "      <th>title</th>\n",
       "      <th>views</th>\n",
       "    </tr>\n",
       "    <tr>\n",
       "      <th>topic</th>\n",
       "      <th></th>\n",
       "      <th></th>\n",
       "      <th></th>\n",
       "    </tr>\n",
       "  </thead>\n",
       "  <tbody>\n",
       "    <tr>\n",
       "      <th>Autos &amp; Vehicles</th>\n",
       "      <td>384</td>\n",
       "      <td>384</td>\n",
       "      <td>384</td>\n",
       "    </tr>\n",
       "    <tr>\n",
       "      <th>Comedy</th>\n",
       "      <td>3457</td>\n",
       "      <td>3457</td>\n",
       "      <td>3457</td>\n",
       "    </tr>\n",
       "    <tr>\n",
       "      <th>Education</th>\n",
       "      <td>1656</td>\n",
       "      <td>1656</td>\n",
       "      <td>1656</td>\n",
       "    </tr>\n",
       "    <tr>\n",
       "      <th>Entertainment</th>\n",
       "      <td>9964</td>\n",
       "      <td>9964</td>\n",
       "      <td>9964</td>\n",
       "    </tr>\n",
       "    <tr>\n",
       "      <th>Film &amp; Animation</th>\n",
       "      <td>2345</td>\n",
       "      <td>2345</td>\n",
       "      <td>2345</td>\n",
       "    </tr>\n",
       "    <tr>\n",
       "      <th>Gaming</th>\n",
       "      <td>817</td>\n",
       "      <td>817</td>\n",
       "      <td>817</td>\n",
       "    </tr>\n",
       "    <tr>\n",
       "      <th>Howto &amp; Style</th>\n",
       "      <td>4146</td>\n",
       "      <td>4146</td>\n",
       "      <td>4146</td>\n",
       "    </tr>\n",
       "    <tr>\n",
       "      <th>Music</th>\n",
       "      <td>6472</td>\n",
       "      <td>6472</td>\n",
       "      <td>6472</td>\n",
       "    </tr>\n",
       "    <tr>\n",
       "      <th>News &amp; Politics</th>\n",
       "      <td>2487</td>\n",
       "      <td>2487</td>\n",
       "      <td>2487</td>\n",
       "    </tr>\n",
       "    <tr>\n",
       "      <th>Nonprofits &amp; Activism</th>\n",
       "      <td>57</td>\n",
       "      <td>57</td>\n",
       "      <td>57</td>\n",
       "    </tr>\n",
       "    <tr>\n",
       "      <th>People &amp; Blogs</th>\n",
       "      <td>3210</td>\n",
       "      <td>3210</td>\n",
       "      <td>3210</td>\n",
       "    </tr>\n",
       "    <tr>\n",
       "      <th>Pets &amp; Animals</th>\n",
       "      <td>920</td>\n",
       "      <td>920</td>\n",
       "      <td>920</td>\n",
       "    </tr>\n",
       "    <tr>\n",
       "      <th>Science &amp; Technology</th>\n",
       "      <td>2401</td>\n",
       "      <td>2401</td>\n",
       "      <td>2401</td>\n",
       "    </tr>\n",
       "    <tr>\n",
       "      <th>Shows</th>\n",
       "      <td>57</td>\n",
       "      <td>57</td>\n",
       "      <td>57</td>\n",
       "    </tr>\n",
       "    <tr>\n",
       "      <th>Sports</th>\n",
       "      <td>2174</td>\n",
       "      <td>2174</td>\n",
       "      <td>2174</td>\n",
       "    </tr>\n",
       "    <tr>\n",
       "      <th>Travel &amp; Events</th>\n",
       "      <td>402</td>\n",
       "      <td>402</td>\n",
       "      <td>402</td>\n",
       "    </tr>\n",
       "  </tbody>\n",
       "</table>\n",
       "</div>"
      ],
      "text/plain": [
       "                       thumbnail_link  title  views\n",
       "topic                                              \n",
       "Autos & Vehicles                  384    384    384\n",
       "Comedy                           3457   3457   3457\n",
       "Education                        1656   1656   1656\n",
       "Entertainment                    9964   9964   9964\n",
       "Film & Animation                 2345   2345   2345\n",
       "Gaming                            817    817    817\n",
       "Howto & Style                    4146   4146   4146\n",
       "Music                            6472   6472   6472\n",
       "News & Politics                  2487   2487   2487\n",
       "Nonprofits & Activism              57     57     57\n",
       "People & Blogs                   3210   3210   3210\n",
       "Pets & Animals                    920    920    920\n",
       "Science & Technology             2401   2401   2401\n",
       "Shows                              57     57     57\n",
       "Sports                           2174   2174   2174\n",
       "Travel & Events                   402    402    402"
      ]
     },
     "execution_count": 19,
     "metadata": {},
     "output_type": "execute_result"
    }
   ],
   "source": [
    "tn.groupby('topic').count()"
   ]
  },
  {
   "cell_type": "code",
   "execution_count": 20,
   "metadata": {},
   "outputs": [],
   "source": [
    "ent=tn[tn['topic'].isin(['Entertainment'])]\n",
    "new=tn[tn['topic'].isin(['News & Politics'])]\n",
    "sci=tn[tn['topic'].isin(['Science & Technology'])]\n",
    "spo=tn[tn['topic'].isin(['Sports'])]\n",
    "fil=tn[tn['topic'].isin(['Film & Animation'])]\n",
    "non=tn[tn['topic'].isin(['Nonprofits & Activism'])]\n",
    "sho=tn[tn['topic'].isin(['Shows'])]\n",
    "gam=tn[tn['topic'].isin(['Gaming'])]\n",
    "pet=tn[tn['topic'].isin(['Pets & Animals'])]"
   ]
  },
  {
   "cell_type": "code",
   "execution_count": 21,
   "metadata": {},
   "outputs": [
    {
     "data": {
      "text/plain": [
       "('C:\\\\Users\\\\dojin\\\\AppData\\\\Local\\\\Temp\\\\tmpj85llbs_',\n",
       " <http.client.HTTPMessage at 0x1d2000e02b0>)"
      ]
     },
     "execution_count": 21,
     "metadata": {},
     "output_type": "execute_result"
    }
   ],
   "source": [
    "import urllib.request\n",
    "data = urllib.request.urlretrieve(\"https://i.ytimg.com/vi/1ZAPwfrtAFY/default.jpg\")\n",
    "data"
   ]
  },
  {
   "cell_type": "code",
   "execution_count": 22,
   "metadata": {},
   "outputs": [
    {
     "name": "stdout",
     "output_type": "stream",
     "text": [
      "broken link\n",
      "broken link\n",
      "broken link\n",
      "broken link\n",
      "broken link\n",
      "broken link\n",
      "broken link\n",
      "broken link\n",
      "broken link\n",
      "broken link\n",
      "broken link\n",
      "broken link\n",
      "broken link\n",
      "broken link\n",
      "broken link\n",
      "broken link\n",
      "broken link\n",
      "broken link\n",
      "broken link\n",
      "broken link\n",
      "broken link\n",
      "broken link\n",
      "broken link\n",
      "broken link\n",
      "broken link\n",
      "broken link\n",
      "broken link\n",
      "broken link\n",
      "broken link\n",
      "broken link\n",
      "broken link\n",
      "broken link\n",
      "broken link\n",
      "broken link\n",
      "broken link\n",
      "broken link\n",
      "broken link\n",
      "broken link\n",
      "broken link\n",
      "broken link\n",
      "broken link\n",
      "broken link\n",
      "broken link\n",
      "broken link\n",
      "broken link\n",
      "broken link\n",
      "broken link\n",
      "broken link\n",
      "broken link\n",
      "broken link\n",
      "broken link\n",
      "broken link\n",
      "broken link\n",
      "broken link\n",
      "broken link\n",
      "broken link\n",
      "broken link\n",
      "broken link\n",
      "broken link\n",
      "broken link\n",
      "broken link\n",
      "broken link\n",
      "broken link\n",
      "broken link\n",
      "broken link\n",
      "broken link\n",
      "broken link\n",
      "broken link\n",
      "broken link\n",
      "broken link\n",
      "broken link\n"
     ]
    }
   ],
   "source": [
    "import urllib.request\n",
    "\n",
    "count = 0 \n",
    "for i in gam['thumbnail_link']:\n",
    "    try:\n",
    "        count += 1 \n",
    "        if count % 7 !=0:\n",
    "            path1 = \"C:/Users/dojin/Anaconda3/workspace(basic)/Youtube/data/train/gam/gam\" + str(count) + \".jpg\"\n",
    "            urllib.request.urlretrieve(i, path1)\n",
    "        else:   \n",
    "            path2 = \"C:/Users/dojin/Anaconda3/workspace(basic)/Youtube/data/validation/gam/gam\" + str(count) + \".jpg\"\n",
    "            urllib.request.urlretrieve(i, path2)     \n",
    "    except:\n",
    "        print(\"broken link\")"
   ]
  },
  {
   "cell_type": "code",
   "execution_count": 23,
   "metadata": {},
   "outputs": [],
   "source": [
    "import urllib.request\n",
    "\n",
    "count = 0 \n",
    "for i in pet['thumbnail_link']:\n",
    "    try:\n",
    "        count += 1 \n",
    "        if count % 7 !=0:\n",
    "            path1 = \"C:/Users/dojin/Anaconda3/workspace(basic)/Youtube/data/train/pet/pet\" + str(count) + \".jpg\"\n",
    "            urllib.request.urlretrieve(i, path1)\n",
    "        else:   \n",
    "            path2 = \"C:/Users/dojin/Anaconda3/workspace(basic)/Youtube/data/validation/pet/pet\" + str(count) + \".jpg\"\n",
    "            urllib.request.urlretrieve(i, path2)     \n",
    "    except:\n",
    "        print(\"broken link\")"
   ]
  },
  {
   "cell_type": "markdown",
   "metadata": {},
   "source": [
    "### Convnet trained from scratch"
   ]
  },
  {
   "cell_type": "code",
   "execution_count": 24,
   "metadata": {},
   "outputs": [],
   "source": [
    "from keras.preprocessing.image import ImageDataGenerator\n",
    "from keras.models import Sequential\n",
    "from keras.layers import Conv2D, MaxPooling2D\n",
    "from keras.layers import Activation, Dropout, Flatten, Dense\n",
    "from keras import backend as K"
   ]
  },
  {
   "cell_type": "code",
   "execution_count": 115,
   "metadata": {},
   "outputs": [
    {
     "name": "stdout",
     "output_type": "stream",
     "text": [
      "1430\n",
      "240\n"
     ]
    }
   ],
   "source": [
    "import os\n",
    "\n",
    "list1 = os.listdir('./data/train/gam')\n",
    "list2 = os.listdir('./data/train/pet')\n",
    "\n",
    "list3 = os.listdir('./data/validation/gam')\n",
    "list4 = os.listdir('./data/validation/pet')\n",
    "\n",
    "number_files = len(list1)+len(list2)\n",
    "print (number_files)\n",
    "test_number_files = len(list3)+len(list4)\n",
    "print (test_number_files)"
   ]
  },
  {
   "cell_type": "code",
   "execution_count": 116,
   "metadata": {},
   "outputs": [],
   "source": [
    "# dimensions of our images.\n",
    "img_width, img_height = 150, 150\n",
    "\n",
    "train_data_dir = './data/train'\n",
    "validation_data_dir = './data/validation'\n",
    "nb_train_samples = number_files\n",
    "nb_validation_samples = test_number_files\n",
    "epochs = 5\n",
    "batch_size = 10\n",
    "\n",
    "if K.image_data_format() == 'channels_first':\n",
    "    input_shape = (3, img_width, img_height)\n",
    "else:\n",
    "    input_shape = (img_width, img_height, 3)"
   ]
  },
  {
   "cell_type": "code",
   "execution_count": 117,
   "metadata": {},
   "outputs": [],
   "source": [
    "model = Sequential()\n",
    "model.add(Conv2D(32, (3, 3), input_shape=input_shape))\n",
    "model.add(Activation('relu'))\n",
    "model.add(MaxPooling2D(pool_size=(2, 2)))\n",
    "\n",
    "model.add(Conv2D(32, (3, 3)))\n",
    "model.add(Activation('relu'))\n",
    "model.add(MaxPooling2D(pool_size=(2, 2)))\n",
    "\n",
    "model.add(Conv2D(64, (3, 3)))\n",
    "model.add(Activation('relu'))\n",
    "model.add(MaxPooling2D(pool_size=(2, 2)))\n",
    "\n",
    "model.add(Flatten())\n",
    "model.add(Dense(64))\n",
    "model.add(Activation('relu'))\n",
    "model.add(Dropout(0.5))\n",
    "model.add(Dense(1))\n",
    "model.add(Activation('sigmoid'))"
   ]
  },
  {
   "cell_type": "code",
   "execution_count": 118,
   "metadata": {},
   "outputs": [],
   "source": [
    "model.compile(loss='binary_crossentropy',\n",
    "              optimizer='rmsprop',\n",
    "              metrics=['accuracy'])"
   ]
  },
  {
   "cell_type": "code",
   "execution_count": 119,
   "metadata": {},
   "outputs": [],
   "source": [
    "# this is the augmentation configuration we will use for training\n",
    "train_datagen = ImageDataGenerator(\n",
    "    rescale=1. / 255,\n",
    "    shear_range=0.2,\n",
    "    zoom_range=0.2,\n",
    "    horizontal_flip=True)"
   ]
  },
  {
   "cell_type": "code",
   "execution_count": 120,
   "metadata": {},
   "outputs": [
    {
     "name": "stdout",
     "output_type": "stream",
     "text": [
      "Found 1430 images belonging to 2 classes.\n",
      "Found 240 images belonging to 2 classes.\n"
     ]
    }
   ],
   "source": [
    "# this is the augmentation configuration we will use for testing:\n",
    "# only rescaling\n",
    "test_datagen = ImageDataGenerator(rescale=1. / 255)\n",
    "\n",
    "train_generator = train_datagen.flow_from_directory(\n",
    "    train_data_dir,\n",
    "    target_size=(img_width, img_height),\n",
    "    batch_size=batch_size,\n",
    "    class_mode='binary')\n",
    "\n",
    "validation_generator = test_datagen.flow_from_directory(\n",
    "    validation_data_dir,\n",
    "    target_size=(img_width, img_height),\n",
    "    batch_size=batch_size,\n",
    "    class_mode='binary')"
   ]
  },
  {
   "cell_type": "code",
   "execution_count": 121,
   "metadata": {},
   "outputs": [
    {
     "name": "stdout",
     "output_type": "stream",
     "text": [
      "Epoch 1/5\n",
      "143/143 [==============================] - 48s 337ms/step - loss: 0.5830 - acc: 0.6993 - val_loss: 0.4037 - val_acc: 0.8125\n",
      "Epoch 2/5\n",
      "143/143 [==============================] - 48s 334ms/step - loss: 0.4499 - acc: 0.7972 - val_loss: 0.3979 - val_acc: 0.8542\n",
      "Epoch 3/5\n",
      "143/143 [==============================] - 48s 339ms/step - loss: 0.3753 - acc: 0.8503 - val_loss: 0.3104 - val_acc: 0.9208\n",
      "Epoch 4/5\n",
      "143/143 [==============================] - 47s 328ms/step - loss: 0.3150 - acc: 0.8839 - val_loss: 0.3512 - val_acc: 0.8833\n",
      "Epoch 5/5\n",
      "143/143 [==============================] - 48s 338ms/step - loss: 0.2483 - acc: 0.8993 - val_loss: 0.2283 - val_acc: 0.9458\n"
     ]
    }
   ],
   "source": [
    "model.fit_generator(\n",
    "    train_generator,\n",
    "    steps_per_epoch=nb_train_samples // batch_size,\n",
    "    epochs=epochs,\n",
    "    validation_data=validation_generator,\n",
    "    validation_steps=nb_validation_samples // batch_size)\n",
    "\n",
    "model.save_weights('first_try.h5')"
   ]
  },
  {
   "cell_type": "code",
   "execution_count": 122,
   "metadata": {},
   "outputs": [
    {
     "data": {
      "image/png": "[encoded data removed]",
      "text/plain": [
       "<PIL.Image.Image image mode=RGB size=150x150 at 0x1D2032DEE10>"
      ]
     },
     "execution_count": 122,
     "metadata": {},
     "output_type": "execute_result"
    }
   ],
   "source": [
    "# load an image from file\n",
    "image = load_img('test.jpg', target_size=(150,150))\n",
    "image"
   ]
  },
  {
   "cell_type": "code",
   "execution_count": 123,
   "metadata": {},
   "outputs": [
    {
     "name": "stdout",
     "output_type": "stream",
     "text": [
      "Pet\n"
     ]
    }
   ],
   "source": [
    "import numpy as np\n",
    "from keras.preprocessing import image\n",
    "test_image = image.load_img('test.jpg', target_size = (150,150))\n",
    "test_image = image.img_to_array(test_image)\n",
    "test_image = np.expand_dims(test_image, axis = 0)\n",
    "test_image = preprocess_input(test_image)\n",
    "result = model.predict(test_image)\n",
    "if result[0][0] >= 0.5:\n",
    "  prediction = 'Game'\n",
    "else:\n",
    "  prediction = 'Pet'\n",
    "print(prediction)"
   ]
  },
  {
   "cell_type": "code",
   "execution_count": 124,
   "metadata": {},
   "outputs": [
    {
     "data": {
      "text/plain": [
       "{'gam': 0, 'pet': 1}"
      ]
     },
     "execution_count": 124,
     "metadata": {},
     "output_type": "execute_result"
    }
   ],
   "source": [
    "train_generator.class_indices"
   ]
  },
  {
   "cell_type": "code",
   "execution_count": 125,
   "metadata": {},
   "outputs": [
    {
     "data": {
      "image/png": "[encoded data removed]",
      "text/plain": [
       "<PIL.Image.Image image mode=RGB size=150x150 at 0x1D2059CCAC8>"
      ]
     },
     "execution_count": 125,
     "metadata": {},
     "output_type": "execute_result"
    }
   ],
   "source": [
    "# load an image from file\n",
    "image = load_img('test2.jpg', target_size=(150,150))\n",
    "image"
   ]
  },
  {
   "cell_type": "code",
   "execution_count": 126,
   "metadata": {},
   "outputs": [
    {
     "name": "stdout",
     "output_type": "stream",
     "text": [
      "Game\n"
     ]
    }
   ],
   "source": [
    "import numpy as np\n",
    "from keras.preprocessing import image\n",
    "test_image = image.load_img('test.jpg', target_size = (150,150))\n",
    "test_image = image.img_to_array(test_image)\n",
    "test_image = np.expand_dims(test_image, axis = 0)\n",
    "result = model.predict(test_image)\n",
    "train_generator.class_indices\n",
    "if result[0][0] >= 0.5:\n",
    "  prediction = 'Game'\n",
    "else:\n",
    "  prediction = 'Pet'\n",
    "print(prediction)"
   ]
  },
  {
   "cell_type": "markdown",
   "metadata": {},
   "source": [
    "### Bottleneck features- 대규모 데이터셋에 이미 학습된 기존 네트워크 (convolutional neural network)를 활용- VGG"
   ]
  },
  {
   "cell_type": "code",
   "execution_count": 127,
   "metadata": {},
   "outputs": [],
   "source": [
    "from keras import applications\n",
    "\n",
    "def save_bottlebeck_features():\n",
    "    datagen = ImageDataGenerator(rescale=1. / 255)\n",
    "\n",
    "    # build the VGG16 network\n",
    "    model = applications.VGG16(include_top=False, weights='imagenet')\n",
    "\n",
    "    generator = datagen.flow_from_directory(\n",
    "        train_data_dir,\n",
    "        target_size=(img_width, img_height),\n",
    "        batch_size=batch_size,\n",
    "        class_mode=None,\n",
    "        shuffle=False)\n",
    "    bottleneck_features_train = model.predict_generator(\n",
    "        generator, nb_train_samples// batch_size)\n",
    "    np.save('bottleneck_features_train.npy', bottleneck_features_train)\n",
    "\n",
    "    generator = datagen.flow_from_directory(\n",
    "        validation_data_dir,\n",
    "        target_size=(img_width, img_height),\n",
    "        batch_size=batch_size,\n",
    "        class_mode=None,\n",
    "        shuffle=False)\n",
    "    bottleneck_features_validation = model.predict_generator(\n",
    "        generator, nb_validation_samples// batch_size)\n",
    "    np.save('bottleneck_features_validation.npy', bottleneck_features_validation)\n",
    "\n",
    "\n"
   ]
  },
  {
   "cell_type": "code",
   "execution_count": 128,
   "metadata": {},
   "outputs": [],
   "source": [
    "def train_top_model():\n",
    "    train_data = np.load('bottleneck_features_train.npy')\n",
    "    train_labels = np.array(\n",
    "        [0] * (len(list1)) + [1] * (len(list2)))\n",
    "\n",
    "    validation_data = np.load('bottleneck_features_validation.npy')\n",
    "    validation_labels = np.array(\n",
    "        [0] * (len(list3)) + [1] * (len(list4)))\n",
    "\n",
    "    model = Sequential()\n",
    "    model.add(Flatten(input_shape=train_data.shape[1:]))\n",
    "    model.add(Dense(256, activation='relu'))\n",
    "    model.add(Dropout(0.5))\n",
    "    model.add(Dense(1, activation='sigmoid'))\n",
    "\n",
    "    model.compile(optimizer='rmsprop',\n",
    "                  loss='binary_crossentropy', metrics=['accuracy'])\n",
    "\n",
    "    model.fit(train_data, train_labels,\n",
    "              epochs=epochs,\n",
    "              batch_size=batch_size,\n",
    "              validation_data=(validation_data, validation_labels))\n",
    "    #model.save_weights(top_model_weights_path)\n",
    "\n"
   ]
  },
  {
   "cell_type": "code",
   "execution_count": 129,
   "metadata": {},
   "outputs": [
    {
     "name": "stdout",
     "output_type": "stream",
     "text": [
      "Found 1430 images belonging to 2 classes.\n",
      "Found 240 images belonging to 2 classes.\n"
     ]
    }
   ],
   "source": [
    "save_bottlebeck_features()\n"
   ]
  },
  {
   "cell_type": "code",
   "execution_count": 130,
   "metadata": {},
   "outputs": [
    {
     "name": "stdout",
     "output_type": "stream",
     "text": [
      "Train on 1430 samples, validate on 240 samples\n",
      "Epoch 1/5\n",
      "1430/1430 [==============================] - 4s 3ms/step - loss: 0.5454 - acc: 0.8224 - val_loss: 0.0981 - val_acc: 0.9583\n",
      "Epoch 2/5\n",
      "1430/1430 [==============================] - 3s 2ms/step - loss: 0.1860 - acc: 0.9427 - val_loss: 0.0370 - val_acc: 0.9917\n",
      "Epoch 3/5\n",
      "1430/1430 [==============================] - 3s 2ms/step - loss: 0.0961 - acc: 0.9720 - val_loss: 0.0640 - val_acc: 0.9917\n",
      "Epoch 4/5\n",
      "1430/1430 [==============================] - 3s 2ms/step - loss: 0.0600 - acc: 0.9818 - val_loss: 0.0467 - val_acc: 0.9875\n",
      "Epoch 5/5\n",
      "1430/1430 [==============================] - 3s 2ms/step - loss: 0.0328 - acc: 0.9895 - val_loss: 0.0542 - val_acc: 0.9917\n"
     ]
    }
   ],
   "source": [
    "train_top_model()"
   ]
  },
  {
   "cell_type": "code",
   "execution_count": 131,
   "metadata": {},
   "outputs": [
    {
     "name": "stdout",
     "output_type": "stream",
     "text": [
      "_________________________________________________________________\n",
      "Layer (type)                 Output Shape              Param #   \n",
      "=================================================================\n",
      "conv2d_7 (Conv2D)            (None, 148, 148, 32)      896       \n",
      "_________________________________________________________________\n",
      "activation_11 (Activation)   (None, 148, 148, 32)      0         \n",
      "_________________________________________________________________\n",
      "max_pooling2d_7 (MaxPooling2 (None, 74, 74, 32)        0         \n",
      "_________________________________________________________________\n",
      "conv2d_8 (Conv2D)            (None, 72, 72, 32)        9248      \n",
      "_________________________________________________________________\n",
      "activation_12 (Activation)   (None, 72, 72, 32)        0         \n",
      "_________________________________________________________________\n",
      "max_pooling2d_8 (MaxPooling2 (None, 36, 36, 32)        0         \n",
      "_________________________________________________________________\n",
      "conv2d_9 (Conv2D)            (None, 34, 34, 64)        18496     \n",
      "_________________________________________________________________\n",
      "activation_13 (Activation)   (None, 34, 34, 64)        0         \n",
      "_________________________________________________________________\n",
      "max_pooling2d_9 (MaxPooling2 (None, 17, 17, 64)        0         \n",
      "_________________________________________________________________\n",
      "flatten_7 (Flatten)          (None, 18496)             0         \n",
      "_________________________________________________________________\n",
      "dense_13 (Dense)             (None, 64)                1183808   \n",
      "_________________________________________________________________\n",
      "activation_14 (Activation)   (None, 64)                0         \n",
      "_________________________________________________________________\n",
      "dropout_7 (Dropout)          (None, 64)                0         \n",
      "_________________________________________________________________\n",
      "dense_14 (Dense)             (None, 1)                 65        \n",
      "_________________________________________________________________\n",
      "activation_15 (Activation)   (None, 1)                 0         \n",
      "=================================================================\n",
      "Total params: 1,212,513\n",
      "Trainable params: 1,212,513\n",
      "Non-trainable params: 0\n",
      "_________________________________________________________________\n"
     ]
    }
   ],
   "source": [
    "model.summary()"
   ]
  },
  {
   "cell_type": "code",
   "execution_count": 132,
   "metadata": {},
   "outputs": [
    {
     "data": {
      "image/png": "[encoded data removed]",
      "text/plain": [
       "<PIL.Image.Image image mode=RGB size=150x150 at 0x1D203842C18>"
      ]
     },
     "execution_count": 132,
     "metadata": {},
     "output_type": "execute_result"
    }
   ],
   "source": [
    "# load an image from file\n",
    "image = load_img('test.jpg', target_size=(150,150))\n",
    "image"
   ]
  },
  {
   "cell_type": "code",
   "execution_count": 133,
   "metadata": {},
   "outputs": [
    {
     "name": "stdout",
     "output_type": "stream",
     "text": [
      "Pet\n"
     ]
    }
   ],
   "source": [
    "import numpy as np\n",
    "from keras.preprocessing import image\n",
    "test_image = image.load_img('test.jpg', target_size = (150,150))\n",
    "test_image = image.img_to_array(test_image)\n",
    "test_image = np.expand_dims(test_image, axis = 0)\n",
    "test_image = preprocess_input(test_image)\n",
    "result = model.predict(test_image)\n",
    "if result[0][0] >= 0.5:\n",
    "  prediction = 'Game'\n",
    "else:\n",
    "  prediction = 'Pet'\n",
    "print(prediction)"
   ]
  },
  {
   "cell_type": "code",
   "execution_count": 134,
   "metadata": {},
   "outputs": [
    {
     "data": {
      "image/png": "[encoded data removed]",
      "text/plain": [
       "<PIL.Image.Image image mode=RGB size=150x150 at 0x1D20381BE48>"
      ]
     },
     "execution_count": 134,
     "metadata": {},
     "output_type": "execute_result"
    }
   ],
   "source": [
    "# load an image from file\n",
    "image = load_img('test2.jpg', target_size=(150,150))\n",
    "image"
   ]
  },
  {
   "cell_type": "code",
   "execution_count": 135,
   "metadata": {},
   "outputs": [
    {
     "name": "stdout",
     "output_type": "stream",
     "text": [
      "Game\n"
     ]
    }
   ],
   "source": [
    "import numpy as np\n",
    "from keras.preprocessing import image\n",
    "test_image = image.load_img('test.jpg', target_size = (150,150))\n",
    "test_image = image.img_to_array(test_image)\n",
    "test_image = np.expand_dims(test_image, axis = 0)\n",
    "result = model.predict(test_image)\n",
    "train_generator.class_indices\n",
    "if result[0][0] >= 0.5:\n",
    "  prediction = 'Game'\n",
    "else:\n",
    "  prediction = 'Pet'\n",
    "print(prediction)"
   ]
  },
  {
   "cell_type": "code",
   "execution_count": null,
   "metadata": {},
   "outputs": [],
   "source": []
  },
  {
   "cell_type": "code",
   "execution_count": null,
   "metadata": {},
   "outputs": [],
   "source": []
  },
  {
   "cell_type": "code",
   "execution_count": null,
   "metadata": {},
   "outputs": [],
   "source": []
  }
 ],
 "metadata": {
  "kernelspec": {
   "display_name": "Python 3",
   "language": "python",
   "name": "python3"
  },
  "language_info": {
   "codemirror_mode": {
    "name": "ipython",
    "version": 3
   },
   "file_extension": ".py",
   "mimetype": "text/x-python",
   "name": "python",
   "nbconvert_exporter": "python",
   "pygments_lexer": "ipython3",
   "version": "3.6.8"
  }
 },
 "nbformat": 4,
 "nbformat_minor": 2
}
